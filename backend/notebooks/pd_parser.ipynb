{
 "cells": [
  {
   "cell_type": "code",
   "execution_count": 1,
   "id": "da41a24f-79b2-4118-8947-2b1184210669",
   "metadata": {},
   "outputs": [],
   "source": [
    "from pdf2image import convert_from_path"
   ]
  },
  {
   "cell_type": "code",
   "execution_count": 2,
   "id": "21dfe411-0bb8-4c63-9321-134bd85bcc45",
   "metadata": {},
   "outputs": [],
   "source": [
    "pages = convert_from_path(r'docs\\patient_details\\pd_1.pdf', poppler_path=r'poppler-24.02.0\\Library\\bin')"
   ]
  },
  {
   "cell_type": "code",
   "execution_count": 13,
   "id": "41ddb2a4-24f9-41be-925a-28d4272e3105",
   "metadata": {},
   "outputs": [],
   "source": [
    "pages[0].show()"
   ]
  },
  {
   "cell_type": "code",
   "execution_count": 14,
   "id": "12f46e3e-74dd-4b95-b987-555820883ec4",
   "metadata": {},
   "outputs": [],
   "source": [
    "import pytesseract "
   ]
  },
  {
   "cell_type": "code",
   "execution_count": 6,
   "id": "0253cc65-7601-450f-a090-a4d5c114d11b",
   "metadata": {},
   "outputs": [
    {
     "name": "stdout",
     "output_type": "stream",
     "text": [
      "47/12/2020\n",
      "\n",
      "Patient Medical Record\n",
      "\n",
      "Patient Information Birth Date\n",
      "Kathy Crawford May 6 1972\n",
      "(737) 988-0851 Weight\n",
      "9264 Ash Dr 95\n",
      "New York City, 10005 .\n",
      "United States Height:\n",
      "190\n",
      "In Case of Emergency\n",
      "m _ a _\n",
      "Simeone Crawford 9266 Ash Dr\n",
      "New York City, New York, 10005\n",
      "Home phone United States\n",
      "(990) 375-4621\n",
      "Work phone\n",
      "Genera! Medical History\n",
      "\n",
      "Chicken Pox (Varicella):\n",
      "\n",
      "IMMUNE\n",
      "\n",
      "Have you had the Hepatitis B vaccination?\n",
      "\n",
      "No\n",
      "\n",
      "List any Medical Problems (asthma, seizures, headaches):\n",
      "\n",
      "Migraine\n"
     ]
    }
   ],
   "source": [
    "pytesseract.pytesseract.tesseract_cmd=r'C:\\Program Files\\Tesseract-OCR\\tesseract.exe'\n",
    "text=pytesseract.image_to_string(pages[0], lang = 'eng')\n",
    "print(text)"
   ]
  },
  {
   "cell_type": "code",
   "execution_count": 31,
   "id": "fdb1b377-efe3-43a9-afab-11043fc4e569",
   "metadata": {},
   "outputs": [],
   "source": [
    "from PIL import Image\n",
    "import cv2"
   ]
  },
  {
   "cell_type": "code",
   "execution_count": 8,
   "id": "7df38db3-c776-494a-8a62-cf70da43c477",
   "metadata": {},
   "outputs": [],
   "source": [
    "import numpy as np"
   ]
  },
  {
   "cell_type": "code",
   "execution_count": 9,
   "id": "c7351163-677e-4785-b4ab-a984daf89a57",
   "metadata": {},
   "outputs": [],
   "source": [
    "def preprocess_image(img):\n",
    "    gray = cv2.cvtColor(np.array(img), cv2.COLOR_BGR2GRAY)\n",
    "    resized = cv2.resize(gray, None, fx=1.5, fy=1.5, interpolation=cv2.INTER_LINEAR)\n",
    "    processed_image = cv2.adaptiveThreshold(\n",
    "        resized,\n",
    "        255,\n",
    "        cv2.ADAPTIVE_THRESH_GAUSSIAN_C,\n",
    "        cv2.THRESH_BINARY,\n",
    "        61,\n",
    "        15\n",
    "    )\n",
    "    return processed_image"
   ]
  },
  {
   "cell_type": "code",
   "execution_count": 42,
   "id": "316bcc71-a030-44c8-b5ea-3f183cc74e87",
   "metadata": {},
   "outputs": [],
   "source": [
    "img=preprocess_image(pages[0])\n",
    "Image.fromarray(img).show()"
   ]
  },
  {
   "cell_type": "code",
   "execution_count": 11,
   "id": "ae900d12-7d39-4183-bff8-6cd1d000c3d0",
   "metadata": {},
   "outputs": [
    {
     "name": "stdout",
     "output_type": "stream",
     "text": [
      "17/12/2020\n",
      "\n",
      "Patient Medical Record\n",
      "\n",
      "Patient Information Birth Date\n",
      "Kathy Crawford May 6 1972\n",
      "(737) 988-0851 Weight’\n",
      "9264 Ash Dr 95\n",
      "New York City, 10005 ‘\n",
      "United States Height:\n",
      "190\n",
      "In Casc of Emergency\n",
      "eee\n",
      "Simeone Crawford 9266 Ash Dr\n",
      "H New York City, New York, 10005\n",
      "ome phone United States\n",
      "(990) 375-4621\n",
      "Work phone\n",
      "Genera! Medical History\n",
      "7\n",
      "\n",
      "I\n",
      "cat ee RAY i eS\n",
      "\n",
      "Chicken Pox (Varicella): Measies:\n",
      "\n",
      "IMMUNE IMMUNE\n",
      "\n",
      "Have you had the Hepatitis B vaccination?\n",
      "\n",
      "No\n",
      "\n",
      "List any Medical Problems (asthma, seizures, headaches):\n",
      "\n",
      "Migraine\n"
     ]
    }
   ],
   "source": [
    "pytesseract.pytesseract.tesseract_cmd=r'C:\\Program Files\\Tesseract-OCR\\tesseract.exe'\n",
    "text=pytesseract.image_to_string(img, lang = 'eng')\n",
    "print(text)"
   ]
  },
  {
   "cell_type": "markdown",
   "id": "43f319d2-3fee-4384-81d5-5a2b01774993",
   "metadata": {},
   "source": [
    "<h2>Extract Name</h2>"
   ]
  },
  {
   "cell_type": "code",
   "execution_count": 18,
   "id": "edbd4b8a-ce0b-4cc0-a640-47ab00de51e0",
   "metadata": {},
   "outputs": [
    {
     "data": {
      "text/plain": [
       "'Birth Date\\nKathy Crawford May 6 1972'"
      ]
     },
     "execution_count": 18,
     "metadata": {},
     "output_type": "execute_result"
    }
   ],
   "source": [
    "import re\n",
    "pattern = 'Patient Information(.*?)\\(\\d{3}\\)'\n",
    "matches = re.findall(pattern, text, flags=re.DOTALL)\n",
    "matches[0].strip()"
   ]
  },
  {
   "cell_type": "code",
   "execution_count": 25,
   "id": "c12bb1bf-4a7f-4a97-89b3-39dda84169d3",
   "metadata": {},
   "outputs": [],
   "source": [
    "match=matches[0].replace('Birth Date', '').strip()"
   ]
  },
  {
   "cell_type": "code",
   "execution_count": 56,
   "id": "76ada8da-5b9c-4051-a10b-75f6013985d8",
   "metadata": {},
   "outputs": [
    {
     "data": {
      "text/plain": [
       "'May 6 1972'"
      ]
     },
     "execution_count": 56,
     "metadata": {},
     "output_type": "execute_result"
    }
   ],
   "source": [
    "pattern = '((Jan|Feb|March|April|May|June|July|Aug|Sep|Oct|Nov|Dec)[ \\d]+)'\n",
    "date_matches=re.findall(pattern, match)\n",
    "date = date_matches[0][0]\n",
    "date"
   ]
  },
  {
   "cell_type": "code",
   "execution_count": 30,
   "id": "b46b3bb1-364e-49ee-a777-4ec23d2cd20d",
   "metadata": {},
   "outputs": [
    {
     "data": {
      "text/plain": [
       "'Kathy Crawford'"
      ]
     },
     "execution_count": 30,
     "metadata": {},
     "output_type": "execute_result"
    }
   ],
   "source": [
    "match.replace(date, '').strip()"
   ]
  },
  {
   "cell_type": "code",
   "execution_count": 62,
   "id": "47e824aa-f730-4bcc-848a-5d65ae58a117",
   "metadata": {},
   "outputs": [],
   "source": [
    "def remove_noise_from_name(name):\n",
    "    name = name.replace('Birth Date','').strip()\n",
    "    date_pattern='((Jan|Feb|March|April|May|June|July|Aug|Sep|Oct|Nov|Dec)[ \\d]+)'\n",
    "    date_matches = re.findall(date_pattern,name)\n",
    "\n",
    "    if date_matches:\n",
    "        date = date_matches[0][0]\n",
    "        name = name.replace(date,'').strip()\n",
    "    return name\n",
    "    "
   ]
  },
  {
   "cell_type": "code",
   "execution_count": 63,
   "id": "4010ba63-dae0-45d9-8f5e-712bcff8dcc1",
   "metadata": {},
   "outputs": [
    {
     "data": {
      "text/plain": [
       "'Kathy Crawford'"
      ]
     },
     "execution_count": 63,
     "metadata": {},
     "output_type": "execute_result"
    }
   ],
   "source": [
    "name = 'Birth Date\\nKathy Crawford May 6 1972'\n",
    "name = remove_noise_from_name(name)\n",
    "name"
   ]
  },
  {
   "cell_type": "markdown",
   "id": "d71af189-3fa4-4f7b-b4d8-8568f13f57d1",
   "metadata": {},
   "source": [
    "<h2>Extract Phone</h2>"
   ]
  },
  {
   "cell_type": "code",
   "execution_count": 41,
   "id": "103ba652-4bfc-476e-8b83-3a572b45441b",
   "metadata": {},
   "outputs": [
    {
     "data": {
      "text/plain": [
       "['(737) 988-0851 ']"
      ]
     },
     "execution_count": 41,
     "metadata": {},
     "output_type": "execute_result"
    }
   ],
   "source": [
    "pattern='\\(\\d{3}\\) \\d{3}\\-\\d{4} '\n",
    "matches = re.findall(pattern, text)\n",
    "matches"
   ]
  },
  {
   "cell_type": "code",
   "execution_count": 66,
   "id": "fe275b4b-e52a-4bf5-b0f0-39a3646a1004",
   "metadata": {},
   "outputs": [
    {
     "data": {
      "text/plain": [
       "'(737) 988-0851'"
      ]
     },
     "execution_count": 66,
     "metadata": {},
     "output_type": "execute_result"
    }
   ],
   "source": [
    "pattern='Patient Information(.*?)(\\(\\d{3}\\) \\d{3}-\\d{4})'\n",
    "matches = re.findall(pattern, text, flags=re.DOTALL)\n",
    "matches[0][1]"
   ]
  },
  {
   "cell_type": "markdown",
   "id": "a9ffd222-4e84-4976-a53a-7f876d994450",
   "metadata": {},
   "source": [
    "<h2>Extract Vaccine</h2>"
   ]
  },
  {
   "cell_type": "code",
   "execution_count": 67,
   "id": "0f284271-c1a2-488c-9840-6ae09ba3193a",
   "metadata": {},
   "outputs": [
    {
     "data": {
      "text/plain": [
       "['No']"
      ]
     },
     "execution_count": 67,
     "metadata": {},
     "output_type": "execute_result"
    }
   ],
   "source": [
    "pattern='vaccination\\?.*(Yes|No)'\n",
    "matches = re.findall(pattern, text, flags=re.DOTALL)\n",
    "matches"
   ]
  },
  {
   "cell_type": "markdown",
   "id": "03551b23-1b91-494f-b734-acdfbd88e176",
   "metadata": {},
   "source": [
    "<h2>Extract Medial Problem</h2>"
   ]
  },
  {
   "cell_type": "code",
   "execution_count": 69,
   "id": "6aad7e06-71c3-4c63-9f0f-dea2bebe1f16",
   "metadata": {},
   "outputs": [
    {
     "data": {
      "text/plain": [
       "['Migraine']"
      ]
     },
     "execution_count": 69,
     "metadata": {},
     "output_type": "execute_result"
    }
   ],
   "source": [
    "pattern='Medical Problems [^\\n]*(.*)'\n",
    "matches=re.findall(pattern, text, flags=re.DOTALL)\n",
    "matches[0].split()"
   ]
  },
  {
   "cell_type": "code",
   "execution_count": 71,
   "id": "c6baa45a-7def-45b3-8c88-f512f715136b",
   "metadata": {},
   "outputs": [
    {
     "data": {
      "text/plain": [
       "['Migraine']"
      ]
     },
     "execution_count": 71,
     "metadata": {},
     "output_type": "execute_result"
    }
   ],
   "source": [
    "pattern='headaches\\):(.*)'\n",
    "matches=re.findall(pattern, text, flags=re.DOTALL)\n",
    "matches[0].split()"
   ]
  }
 ],
 "metadata": {
  "kernelspec": {
   "display_name": "Python 3 (ipykernel)",
   "language": "python",
   "name": "python3"
  },
  "language_info": {
   "codemirror_mode": {
    "name": "ipython",
    "version": 3
   },
   "file_extension": ".py",
   "mimetype": "text/x-python",
   "name": "python",
   "nbconvert_exporter": "python",
   "pygments_lexer": "ipython3",
   "version": "3.8.10"
  }
 },
 "nbformat": 4,
 "nbformat_minor": 5
}
