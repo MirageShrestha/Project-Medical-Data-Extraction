{
 "cells": [
  {
   "cell_type": "code",
   "execution_count": 2,
   "id": "01a5248f-4d6a-41b0-a95f-cb43fc922586",
   "metadata": {},
   "outputs": [],
   "source": [
    "import re"
   ]
  },
  {
   "cell_type": "markdown",
   "id": "66073f1e-be15-437c-85b6-7726c539f2ac",
   "metadata": {},
   "source": [
    "Extract all the numbers from text"
   ]
  },
  {
   "cell_type": "code",
   "execution_count": 3,
   "id": "786a43a6-c978-4875-b963-42da1c894bf5",
   "metadata": {},
   "outputs": [
    {
     "data": {
      "text/plain": [
       "['9848569098', '120']"
      ]
     },
     "execution_count": 3,
     "metadata": {},
     "output_type": "execute_result"
    }
   ],
   "source": [
    "text = 'Mirage phone is 9848569098. Bill amount is 120$'\n",
    "pattern = '\\d+'\n",
    "match = re.findall(pattern, text)\n",
    "match"
   ]
  },
  {
   "cell_type": "markdown",
   "id": "0328e029-72b6-42f2-b36f-2526b5c770d3",
   "metadata": {},
   "source": [
    "Extract only phone number"
   ]
  },
  {
   "cell_type": "code",
   "execution_count": 4,
   "id": "daf8886e-a29a-41ee-80a2-0a1e5710481a",
   "metadata": {},
   "outputs": [
    {
     "data": {
      "text/plain": [
       "['9848569098']"
      ]
     },
     "execution_count": 4,
     "metadata": {},
     "output_type": "execute_result"
    }
   ],
   "source": [
    "patten = '\\d{10}'\n",
    "match = re.findall(patten, text)\n",
    "match"
   ]
  },
  {
   "cell_type": "markdown",
   "id": "1914c900-aafb-4612-acf1-f3414cc39fd0",
   "metadata": {},
   "source": [
    "Extract phone number which is either 10 continuous digit or follows (xxx)-xxx-xxxx format"
   ]
  },
  {
   "cell_type": "code",
   "execution_count": 5,
   "id": "1138dd1d-0bcb-4f1e-88ac-2534aa2369d6",
   "metadata": {},
   "outputs": [
    {
     "data": {
      "text/plain": [
       "['(986)-707-8356', '9848569098']"
      ]
     },
     "execution_count": 5,
     "metadata": {},
     "output_type": "execute_result"
    }
   ],
   "source": [
    "text = 'Rachel phone is (986)-707-8356, spouse number 9848569098, bill is 150$'\n",
    "pattern = '\\(\\d{3}\\)-\\d{3}-\\d{4}|\\d{10}'\n",
    "match = re.findall(pattern, text)\n",
    "match"
   ]
  },
  {
   "cell_type": "markdown",
   "id": "12d71380-e844-47a2-b100-7cbb1e9ac760",
   "metadata": {},
   "source": [
    "Extract phone number and bill amount separately"
   ]
  },
  {
   "cell_type": "code",
   "execution_count": 6,
   "id": "d5e27abc-0bff-41d1-9dcd-20dbfec5fbb9",
   "metadata": {},
   "outputs": [
    {
     "data": {
      "text/plain": [
       "<re.Match object; span=(16, 47), match='9848569098. Bill amount is 120$'>"
      ]
     },
     "execution_count": 6,
     "metadata": {},
     "output_type": "execute_result"
    }
   ],
   "source": [
    "text = 'Mirage phone is 9848569098. Bill amount is 120$'\n",
    "pattern = '(\\d{10})\\D+(\\d+)\\$'\n",
    "match = re.search(pattern, text)\n",
    "match"
   ]
  },
  {
   "cell_type": "code",
   "execution_count": 7,
   "id": "10819bc4-c5be-42b9-b1fb-a654b99451c7",
   "metadata": {},
   "outputs": [],
   "source": [
    "phone_number, bill_amount = match.groups()"
   ]
  },
  {
   "cell_type": "code",
   "execution_count": 15,
   "id": "7f308bd2-0b54-43fb-91a5-d898003b322a",
   "metadata": {},
   "outputs": [
    {
     "data": {
      "text/plain": [
       "'9848569098'"
      ]
     },
     "execution_count": 15,
     "metadata": {},
     "output_type": "execute_result"
    }
   ],
   "source": [
    "phone_number"
   ]
  },
  {
   "cell_type": "code",
   "execution_count": 16,
   "id": "234c9ebe-3f55-4e0a-a221-1a77c7e9e568",
   "metadata": {},
   "outputs": [
    {
     "data": {
      "text/plain": [
       "'120'"
      ]
     },
     "execution_count": 16,
     "metadata": {},
     "output_type": "execute_result"
    }
   ],
   "source": [
    "bill_amount"
   ]
  },
  {
   "cell_type": "code",
   "execution_count": 11,
   "id": "c059c68e-01a3-4aa8-91b6-1988f9526302",
   "metadata": {},
   "outputs": [
    {
     "data": {
      "text/plain": [
       "['teslarati', 'dummy_tesla', 'dummy_2_tesla']"
      ]
     },
     "execution_count": 11,
     "metadata": {},
     "output_type": "execute_result"
    }
   ],
   "source": [
    "text = '''Follow our leader Elon musk on Twitter \n",
    "here: https://twitter.com/elonmusk, more information \n",
    "on Tesla's products can be found at https://www.tesla.com/. \n",
    "Also here are leading influencers for tesla-related news, \n",
    "https://twitter.com/teslarati\n",
    "https://twitter.com/dummy_tesla\n",
    "https://twitter.com/dummy_2_tesla'''\n",
    "pattern = '\\nhttps://twitter.com/([a-zA-Z0-9_]+)'\n",
    "match=re.findall(pattern, text)\n",
    "match"
   ]
  }
 ],
 "metadata": {
  "kernelspec": {
   "display_name": "Python 3 (ipykernel)",
   "language": "python",
   "name": "python3"
  },
  "language_info": {
   "codemirror_mode": {
    "name": "ipython",
    "version": 3
   },
   "file_extension": ".py",
   "mimetype": "text/x-python",
   "name": "python",
   "nbconvert_exporter": "python",
   "pygments_lexer": "ipython3",
   "version": "3.8.10"
  }
 },
 "nbformat": 4,
 "nbformat_minor": 5
}
